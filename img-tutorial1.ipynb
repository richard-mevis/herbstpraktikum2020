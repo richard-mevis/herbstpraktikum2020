{
  "cells": [
    {
      "cell_type": "markdown",
      "source": [
        "# Eine sehr kurze Einführung in Python und MyImage\n",
        "\n",
        "richard.rascher-friesenhausen@mevis.fraunhofer.de\n",
        "\n",
        "Dies ist eine sehr, sehr kurze Einführung zu Python und den\n",
        "Möglichkeiten, vermittels des Moduls *MyImage* zweidimensionale\n",
        "Grauwertbilder zu bearbeiten. \n",
        "\n",
        "Python ist eine interpretierte objektorientierte Programmiersprache. \n",
        "D.h.~insbesondere, dass man sie direkt und ohne Übersetzer\n",
        "und Binder interaktiv verwenden kann. (Anders als bei C++ oder Java.)\n",
        "\n",
        "Ihr wird nachgesagt, eine leicht verständliche und erlernbare Syntax zu\n",
        "besitzen. Und es gibt viele vorgefertigte Module, die einem eine Menge\n",
        "Programmierarbeit für spezielle Anwendungen abnehmen. \n",
        "\n",
        "Python kann frei aus dem Internet heruntergeladen werden. Die in dieser\n",
        "Veranstaltung verwendete Distribution findet man bei\n",
        "http://anaconda.com/ mit (fast) allen hier verwendeten\n",
        "Modulen.  \n",
        "\n",
        "Die Programmiersprache ist gut dokumentiert und es findet sich jede\n",
        "Menge Hilfe zu Python frei im Internet. Ich empfehle insbesondere das\n",
        "Python-Tutorial (auf englisch):\n",
        "\n",
        "http://docs.python.org/tutorial/\n",
        "\n",
        "Und auf deutsch findet man eine etwas ältere Version unter\n",
        "\n",
        "https://py-tutorial-de.readthedocs.io/de/python-3.3/\n",
        "\n",
        "Wir verwenden im weiteren die Python-Notebooks und starten hier gleich mit dem ersten."
      ],
      "metadata": {}
    },
    {
      "cell_type": "markdown",
      "source": [
        "## Erste Python Schritte\n",
        "\n",
        "Wir spielen jetzt einige einfache Python Befehle durch und beginnen mit dem Rechnen. Jeder Code-Zelle kann über `Ctrl+Enter` ausgewertet werden. Oder man verwendet das Zeichen `>` in der linken oberen Ecke."
      ],
      "metadata": {}
    },
    {
      "cell_type": "code",
      "source": [
        "1 + 1"
      ],
      "outputs": [],
      "execution_count": null,
      "metadata": {
        "collapsed": false,
        "outputHidden": false,
        "inputHidden": false
      }
    },
    {
      "cell_type": "code",
      "source": [
        "-42 + 27"
      ],
      "outputs": [],
      "execution_count": null,
      "metadata": {
        "collapsed": false,
        "outputHidden": false,
        "inputHidden": false
      }
    },
    {
      "cell_type": "markdown",
      "source": [
        "Python antwortet mit einer Ausgabe des Rechenergebnisses auf einer neuen Zeile."
      ],
      "metadata": {}
    },
    {
      "cell_type": "markdown",
      "source": [
        "Bisher haben wir mit ganzen Zahlen (Integer) gerechnet. Und haben dabei auch stets ein ganzzahliges Ergebnis erhalten. Das ändert sich mit der Division.\n"
      ],
      "metadata": {}
    },
    {
      "cell_type": "code",
      "source": [
        "1/2"
      ],
      "outputs": [],
      "execution_count": null,
      "metadata": {
        "collapsed": false,
        "outputHidden": false,
        "inputHidden": false
      }
    },
    {
      "cell_type": "markdown",
      "source": [
        "Das Ergebnis ist eine Dezimalzahl (Float). "
      ],
      "metadata": {}
    },
    {
      "cell_type": "markdown",
      "source": [
        "**Aufgabe:** Spielt einige Weitere Rechnung einmal durch. Es fehlen ja noch Subtraktion und Multiplikation. Verwendet auch gemischt Integer und Float Zahlen."
      ],
      "metadata": {}
    },
    {
      "cell_type": "markdown",
      "source": [
        "Will man \"schwierige\" Mathematik rechnen, so benötigt man die\n",
        "üblichen mathematischen Funktionen und Konstanten. Diese sind nicht\n",
        "direkt eingebaut sondern müssen \"nachgeladen\" werden. Das Modul\n",
        "`math` stellt einem eine Reihe von Funktionen und Konstanten zur\n",
        "Verfügung.\n",
        "\n",
        "Zuerst laden wir die Mathematik nach."
      ],
      "metadata": {}
    },
    {
      "cell_type": "code",
      "source": [
        "from math import *"
      ],
      "outputs": [],
      "execution_count": null,
      "metadata": {
        "collapsed": false,
        "outputHidden": false,
        "inputHidden": false
      }
    },
    {
      "cell_type": "markdown",
      "source": [
        "Und dann listen wir den Inhalt auf."
      ],
      "metadata": {}
    },
    {
      "cell_type": "code",
      "source": [
        "dir()"
      ],
      "outputs": [],
      "execution_count": null,
      "metadata": {
        "collapsed": false,
        "outputHidden": false,
        "inputHidden": false
      }
    },
    {
      "cell_type": "markdown",
      "source": [
        "**Aufgabe:** Schaut Euch die obige Ausgabe an und findet Funktionen, die Ihr aus Eurem Mathematikunterricht kennt."
      ],
      "metadata": {}
    },
    {
      "cell_type": "markdown",
      "source": [
        "Man kann bspw. jetzt Wurzeln ziehen:"
      ],
      "metadata": {}
    },
    {
      "cell_type": "code",
      "source": [
        "sqrt(4)"
      ],
      "outputs": [],
      "execution_count": null,
      "metadata": {
        "collapsed": false,
        "outputHidden": false,
        "inputHidden": false
      }
    },
    {
      "cell_type": "code",
      "source": [
        "2**2"
      ],
      "outputs": [],
      "execution_count": null,
      "metadata": {
        "collapsed": false,
        "outputHidden": false,
        "inputHidden": false
      }
    },
    {
      "cell_type": "markdown",
      "source": [
        "Oben bedeutet der Operator `**` das Potenzieren."
      ],
      "metadata": {}
    },
    {
      "cell_type": "markdown",
      "source": [
        "**Aufgabe:** Wie kann man mit der `**`-Schreibweise auch die Wurzel ziehen?"
      ],
      "metadata": {}
    },
    {
      "cell_type": "code",
      "source": [],
      "outputs": [],
      "execution_count": null,
      "metadata": {
        "collapsed": false,
        "outputHidden": false,
        "inputHidden": false
      }
    },
    {
      "cell_type": "markdown",
      "source": [
        "Mit der Funktion `help()` kann man Python befragen, was eine Funktion\n",
        "bedeutet, etwa"
      ],
      "metadata": {}
    },
    {
      "cell_type": "code",
      "source": [
        "help(sqrt)"
      ],
      "outputs": [],
      "execution_count": null,
      "metadata": {
        "collapsed": false,
        "outputHidden": false,
        "inputHidden": false
      }
    },
    {
      "cell_type": "markdown",
      "source": [
        "**Aufgabe:** Bekommt heraus, was die Funktion `pow()` berechnet und wie."
      ],
      "metadata": {}
    },
    {
      "cell_type": "code",
      "execution_count": null,
      "metadata": {},
      "outputs": [],
      "source": []
    },
    {
      "cell_type": "markdown",
      "source": [
        "Eine formatierte Tabelle einiger trigonometrischer Funktionen bekommen\n",
        "wir über "
      ],
      "metadata": {}
    },
    {
      "cell_type": "code",
      "source": [
        "for x in [0., pi/6, pi/4, pi/3, pi/2, pi]:\n",
        "\tprint(\"%f, %+f, %f\" % (x, cos(x), sin(x)))"
      ],
      "outputs": [],
      "execution_count": null,
      "metadata": {
        "collapsed": false,
        "outputHidden": false,
        "inputHidden": false
      }
    },
    {
      "cell_type": "markdown",
      "source": [
        "Beachtet die Einrückung der `print()` Funktion. Wir haben hier ein\n",
        "Beispiel für eine Python-Kontrollstruktur, nämlich die `for`\n",
        "Schleife. Darüber hinaus wird auch mit einer Variablen `x`\n",
        "gearbeitet.\n",
        "\n",
        "`x` nimmt der Reihe nach die Werte $0$, $\\pi/6$, ..., $\\pi$ an und in der Schleife werden diese Werte, der Cosinus und der Sinus dazu ausgegeben."
      ],
      "metadata": {}
    },
    {
      "cell_type": "markdown",
      "source": [
        "Man kann Variablen selber anlegen durch Vergabe eines Namens und Zuweisung eines Wertes. Etwa"
      ],
      "metadata": {}
    },
    {
      "cell_type": "code",
      "source": [
        "x = 42\n",
        "print(x)\n",
        "\n",
        "y = 0.815\n",
        "print(y)\n",
        "\n",
        "s = \"Hallo\"\n",
        "print(s)"
      ],
      "outputs": [],
      "execution_count": null,
      "metadata": {
        "collapsed": false,
        "outputHidden": false,
        "inputHidden": false
      }
    },
    {
      "cell_type": "markdown",
      "source": [
        "Hier wurde den Variablen `x`, `y` und `s` eine ganze\n",
        "Zahl, eine Dezimalzahl und ein String zugewiesen und ausgegeben. "
      ],
      "metadata": {}
    },
    {
      "cell_type": "markdown",
      "source": [
        "Neben diesen einfachen Datentypen benötigen wir in Python noch sehr\n",
        "häufig den Typ der Liste:"
      ],
      "metadata": {}
    },
    {
      "cell_type": "code",
      "source": [
        "L = [x, y, s]\n",
        "L"
      ],
      "outputs": [],
      "execution_count": null,
      "metadata": {
        "collapsed": false,
        "outputHidden": false,
        "inputHidden": false
      }
    },
    {
      "cell_type": "markdown",
      "source": [
        "An einzelne Listenelemente kommt man über einen Index, der bei Null\n",
        "beginnt."
      ],
      "metadata": {}
    },
    {
      "cell_type": "code",
      "source": [
        "print(L[0])\n",
        "print(L[1])"
      ],
      "outputs": [],
      "execution_count": null,
      "metadata": {
        "collapsed": false,
        "outputHidden": false,
        "inputHidden": false
      }
    },
    {
      "cell_type": "markdown",
      "source": [
        "Genauso kann man diese Elemente auch verändern."
      ],
      "metadata": {}
    },
    {
      "cell_type": "code",
      "source": [
        "L[1] = 47.11\n",
        "L"
      ],
      "outputs": [],
      "execution_count": null,
      "metadata": {
        "collapsed": false,
        "outputHidden": false,
        "inputHidden": false
      }
    },
    {
      "cell_type": "markdown",
      "source": [
        "Es ist möglich, eigene Funktionen in Python zu definieren. Machen wir\n",
        "das mal vor für eine Quadratfunktion, die es so bisher nicht gibt:"
      ],
      "metadata": {}
    },
    {
      "cell_type": "code",
      "source": [
        "def quadrat(x):\n",
        "\treturn x*x"
      ],
      "outputs": [],
      "execution_count": null,
      "metadata": {
        "collapsed": false,
        "outputHidden": false,
        "inputHidden": false
      }
    },
    {
      "cell_type": "markdown",
      "source": [
        "Und dann"
      ],
      "metadata": {}
    },
    {
      "cell_type": "code",
      "source": [
        "print(quadrat(4))\n",
        "y = quadrat(-1.2)\n",
        "print(y)"
      ],
      "outputs": [],
      "execution_count": null,
      "metadata": {
        "collapsed": false,
        "outputHidden": false,
        "inputHidden": false
      }
    },
    {
      "cell_type": "markdown",
      "source": [
        "Oben steht die Definition der Funktion \\type{quadrat} und einige Aufrufe dieser Funktion. Ein Aufruf mit einem String geht schief!"
      ],
      "metadata": {}
    },
    {
      "cell_type": "code",
      "source": [
        "print(quadrat('hi'))"
      ],
      "outputs": [],
      "execution_count": null,
      "metadata": {
        "collapsed": false,
        "outputHidden": false,
        "inputHidden": false
      }
    },
    {
      "cell_type": "markdown",
      "source": [
        "Wir erhalten eine Fehlermeldung, die besagt, dass man Wörter nicht quadrieren kann."
      ],
      "metadata": {}
    },
    {
      "cell_type": "markdown",
      "source": [
        "**Aufgabe:**    Schreibt eine Funktion `c2f()`, die eine Temperatur in Celsius umrechnet nach Fahrenheit und eine Funktion `f2c()`, die   umgekehrt eine Temperatur in Fahrenheit umrechnet nach Celsius. Testet beide Funktionen aus."
      ],
      "metadata": {}
    },
    {
      "cell_type": "code",
      "execution_count": null,
      "metadata": {},
      "outputs": [],
      "source": []
    },
    {
      "cell_type": "markdown",
      "source": [
        "**Aufgabe:** Lest das Tutorial zu Python von der Python-Dokumentations-Webseite http://docs.python.org/ und arbeitet es einmal bis Abschnitt 8 durch. "
      ],
      "metadata": {}
    },
    {
      "cell_type": "code",
      "execution_count": null,
      "metadata": {},
      "outputs": [],
      "source": []
    },
    {
      "cell_type": "markdown",
      "source": [
        "## Das `MyImage` Modul\n",
        "\n",
        "In Python gibt es verschiedene Bibliotheken, die auf Bildern arbeiten.\n",
        "Da ist zum einen das `Image` Modul, das eine ausgereifte Sammlung\n",
        "von Objekten zur Manipulation von $2D$-Bildern zur Verfügung stellt. \n",
        "\n",
        "Für die medizinische Bildverarbeitung existiert mit `ITK` (und mit `SimpleITK`) eine große Sammlung von Algorithmen, die nativ in `C++` codiert sind. Viele Teile davon sind auch für Python verfügbar und können mit dem Modul `itk` (und mit `SimpleITK`) in ein Python Programm importiert werden.\n",
        "\n",
        "Beide angesprochenen Module sind in der unserer Python Distribution\n",
        "nicht enthalten und müssten nachgeladen werden.\n",
        "\n",
        "Als eine weitere sehr einfache Alternative steht mit dem Modul\n",
        "`MyImage` ein Bilderklasse und einige sinnvolle Funktionen zur\n",
        "Verfügung, um *pixelweise* Bildverarbeitung auf \n",
        "$2D$-Grauwertbildern zu implementieren."
      ],
      "metadata": {}
    },
    {
      "cell_type": "markdown",
      "source": [
        "Jedes Python Programm, welches die `MyImage`-Objekte nutzen will,\n",
        "muss die Objekte importieren, also"
      ],
      "metadata": {}
    },
    {
      "cell_type": "code",
      "source": [
        "from MyImage import *"
      ],
      "outputs": [],
      "execution_count": null,
      "metadata": {
        "collapsed": false,
        "outputHidden": false,
        "inputHidden": false
      }
    },
    {
      "cell_type": "markdown",
      "source": [
        "In der Klasse `MyImage` (Vorsicht! Gleicher Name wie das Modul.)\n",
        "stecken nun die Bildobjekte. Ein Bild aus einer Datei, bevorzugt\n",
        "`.png` (Portable Newtork Graphic), lässt sich wie folgt einlesen\n"
      ],
      "metadata": {}
    },
    {
      "cell_type": "code",
      "source": [
        "img = MyImage('clown.png')"
      ],
      "outputs": [],
      "execution_count": null,
      "metadata": {
        "collapsed": false,
        "outputHidden": false,
        "inputHidden": false
      }
    },
    {
      "cell_type": "markdown",
      "source": [
        "Dazu muss natürlich die Datei `clown.png` im aktuellen Arbeitsverzeichnis liegen. \n",
        "\n",
        "Und dann schauen wir uns das Bild einmal an mit"
      ],
      "metadata": {}
    },
    {
      "cell_type": "code",
      "source": [
        "img.show()"
      ],
      "outputs": [],
      "execution_count": null,
      "metadata": {
        "collapsed": false,
        "outputHidden": false,
        "inputHidden": false
      }
    },
    {
      "cell_type": "markdown",
      "source": [
        "Man kann nun das Bild nach einigen seiner Eigenschaften befragen, etwa\n",
        "nach seiner Breite und Höhe:"
      ],
      "metadata": {}
    },
    {
      "cell_type": "code",
      "source": [
        "print(img.getWidth(), img.getHeight())"
      ],
      "outputs": [],
      "execution_count": null,
      "metadata": {
        "collapsed": false,
        "outputHidden": false,
        "inputHidden": false
      }
    },
    {
      "cell_type": "markdown",
      "source": [
        "Wir haben es mit einem Bild mit $320$ Spalten und $200$ Zeilen zu tun.\n",
        "Die Spalten- und Zeilenzählung beginnt bei $0$! Eine ähnliche Ausgabe\n",
        "hätten wir auch mit dem Befehl"
      ],
      "metadata": {}
    },
    {
      "cell_type": "code",
      "source": [
        "print(img.getSize())"
      ],
      "outputs": [],
      "execution_count": null,
      "metadata": {
        "collapsed": false,
        "outputHidden": false,
        "inputHidden": false
      }
    },
    {
      "cell_type": "markdown",
      "source": [
        "erhalten. \n",
        "\n",
        "Wir werden nun die ganze Spalte $x=42$ des Bildes auf weiß,\n",
        "also $255$, setzen. Das Bild wird koordinatenweise angesprochen, wobei\n",
        "die erste Koordinate, die $x$ Koordinate, für die Spalten steht und die\n",
        "zweite Koordinate, die $y$ Koordinate, für die Zeile.  Der Programmcode\n",
        "dazu verläuft nun wie folgt "
      ],
      "metadata": {}
    },
    {
      "cell_type": "code",
      "source": [
        "x = 42\n",
        "for y in range(img.getHeight()): \n",
        "    img[x, y] = 255"
      ],
      "outputs": [],
      "execution_count": null,
      "metadata": {
        "collapsed": false,
        "outputHidden": false,
        "inputHidden": false
      }
    },
    {
      "cell_type": "markdown",
      "source": [
        "Und danach kann man sich das neue Bild anschauen vermittels\n"
      ],
      "metadata": {}
    },
    {
      "cell_type": "code",
      "source": [
        "img.show()"
      ],
      "outputs": [],
      "execution_count": null,
      "metadata": {
        "collapsed": false,
        "outputHidden": false,
        "inputHidden": false
      }
    },
    {
      "cell_type": "markdown",
      "source": [
        "Damit ist es also möglich, existierende Bilder zu lesen, zu\n",
        "manipulieren, anzuschauen und auch zu speichern:"
      ],
      "metadata": {}
    },
    {
      "cell_type": "code",
      "source": [
        "img.save('myclown.png')"
      ],
      "outputs": [],
      "execution_count": null,
      "metadata": {
        "collapsed": false,
        "outputHidden": false,
        "inputHidden": false
      }
    },
    {
      "cell_type": "markdown",
      "source": [
        "Auf der Festplatte sollte sich jetzt im aktuellen Verzeichnis eine neue\n",
        "Datei `myclown.png` befinden, in der das von uns veränderte Bild\n",
        "gespeichert ist. "
      ],
      "metadata": {}
    },
    {
      "cell_type": "markdown",
      "source": [
        "**Aufgabe:** Schaut doch einmal nach."
      ],
      "metadata": {}
    },
    {
      "cell_type": "markdown",
      "source": [
        "Ein schwarzes Bild mit vorgegebener Breite $w$ und Höhe $h$ kann wie folgt neu angelegt werden "
      ],
      "metadata": {}
    },
    {
      "cell_type": "code",
      "source": [
        "w, h = 100, 80\n",
        "Img = MyImage(w, h, 0)"
      ],
      "outputs": [],
      "execution_count": null,
      "metadata": {
        "collapsed": false,
        "outputHidden": false,
        "inputHidden": false
      }
    },
    {
      "cell_type": "markdown",
      "source": [
        "und danach pixelweise verändert werden. Beispielweise lassen sich darauf $1000$ *zufällige* Pixelpositionen mit *zufälligen* Grauwerten\n",
        "zwischen $0$ (schwarz) und $255$ (weiß) belegen. Der Zufall wird durch\n",
        "das Modul `random` zur Verfügung gestellt:"
      ],
      "metadata": {}
    },
    {
      "cell_type": "code",
      "source": [
        "import random\n",
        "\n",
        "for i in range(1000):\n",
        "    x = random.randrange(0, w)\n",
        "    y = random.randrange(0, h)\n",
        "    g = random.randrange(0, 256)\n",
        "    Img[x, y] = g"
      ],
      "outputs": [],
      "execution_count": null,
      "metadata": {
        "collapsed": false,
        "outputHidden": false,
        "inputHidden": false
      }
    },
    {
      "cell_type": "code",
      "source": [
        "Img.show()"
      ],
      "outputs": [],
      "execution_count": null,
      "metadata": {
        "collapsed": false,
        "outputHidden": false,
        "inputHidden": false
      }
    },
    {
      "cell_type": "markdown",
      "source": [
        "**Aufgabe:**   Erzeugt ein $256\\times256$ Grauwertbild wie in der unten stehenden Abbildung links.\n",
        "\n",
        "![qc](quadrat_circle.png)\n",
        "\n",
        "Die beiden Grauwerte sollen $0$ (Schwarz) und $255$ (Weiß) sein. Speichert das Bild unter `quadrat.png` ab.\n",
        "\n",
        "Wie kann man einen Kreis (mit Radius $50$) wie in der Abbildung rechts\n",
        "erzeugen? Speichert diesen unter `circle.png` ab."
      ],
      "metadata": {}
    },
    {
      "cell_type": "code",
      "execution_count": null,
      "metadata": {},
      "outputs": [],
      "source": []
    },
    {
      "cell_type": "markdown",
      "source": [
        "**Aufgabe:** Erzeugt ein $512\\times512$ Bild mit vertikalen Grauwertstreifen der Stärke $50$, $100$, $150$, $200$ und jeweiliger Breite von $128$ Pixel. Speichert das Bild unter dem Namen `stripes1.png` ab.\n",
        "\n",
        "Verändert die Grauwerte zu $20$, $40$, $60$ und $80$ und speichert unter `stripes2.png` ab. \n"
      ],
      "metadata": {}
    },
    {
      "cell_type": "code",
      "execution_count": null,
      "metadata": {},
      "outputs": [],
      "source": []
    }
  ],
  "metadata": {
    "kernel_info": {
      "name": "python3"
    },
    "language_info": {
      "name": "python",
      "version": "3.7.3-final",
      "mimetype": "text/x-python",
      "codemirror_mode": {
        "name": "ipython",
        "version": 3
      },
      "pygments_lexer": "ipython3",
      "nbconvert_exporter": "python",
      "file_extension": ".py"
    },
    "kernelspec": {
      "name": "python3",
      "language": "python",
      "display_name": "Python 3"
    },
    "nteract": {
      "version": "0.14.4"
    }
  },
  "nbformat": 4,
  "nbformat_minor": 0
}