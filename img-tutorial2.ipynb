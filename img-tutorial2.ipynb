{
  "cells": [
    {
      "cell_type": "markdown",
      "source": [
        "# Mehr zu MyImage und Grauwertbildern\n",
        "\n",
        "richard.rascher-friesenhausen@mevis.fraunhofer.de\n",
        "\n",
        "Nachdem wir nun Python und das Modul MyImage kennengelernt haben, wollen wir \n",
        "daran gehen und gegebene Bilder manipulieren.\n",
        "Als erstes kann man in jedem Pixel eines Bildes eine (beliebige) Funktion auf \n",
        "die Grauwerte anwenden: ‚Punktoperator‘.\n",
        "\n",
        "Bspw. kann man jedes Pixel quadrieren:"
      ],
      "metadata": {}
    },
    {
      "cell_type": "code",
      "source": [
        "from MyImage import *\n",
        "def SquareFilter(img):\n",
        "    Img = MyImage(img) # copy original\n",
        "    w, h = Img.getSize()\n",
        "    for x in range(w):\n",
        "        for y in range(h):\n",
        "            Img[x,y] = img[x,y]**2\n",
        "    return Img"
      ],
      "outputs": [],
      "execution_count": null,
      "metadata": {}
    },
    {
      "cell_type": "code",
      "source": [
        "img = MyImage('clown.png')\n",
        "Img = SquareFilter(img)\n",
        "Img.show()"
      ],
      "outputs": [],
      "execution_count": null,
      "metadata": {}
    },
    {
      "cell_type": "markdown",
      "source": [
        "Wir berechnen also mit `SquareFilter()` die Funktion\n",
        "\n",
        "$$\n",
        "  f_{\\text{Square}}(\\text{Bild}) = \\text{Bild}^2\n",
        "$$"
      ],
      "metadata": {}
    },
    {
      "cell_type": "markdown",
      "source": [
        "**Aufgabe:** Spielt das obige Programm einmal durch für unsere Bilder\n",
        " `clown.png` (s.o.), `lena.png` und `brain.png`. Wie ist der Eindruck der neuen Bilder? Was hat sich verändert?"
      ],
      "metadata": {}
    },
    {
      "cell_type": "code",
      "source": [],
      "outputs": [],
      "execution_count": null,
      "metadata": {}
    },
    {
      "cell_type": "markdown",
      "source": [
        "**Aufgabe:** Schreibt einen Bildfilter `SinusFilter()`, der die Funktion\n",
        "$$\n",
        "  f_{\\text{Sinus}}(\\text{Bild}) = \\sin(\\text{Bild})\n",
        "$$\n",
        "implementiert und wendet ihn wieder auf unsere drei Testbilder an. Warum kommt\n",
        "das raus, was rauskommt?"
      ],
      "metadata": {}
    },
    {
      "cell_type": "code",
      "source": [],
      "outputs": [],
      "execution_count": null,
      "metadata": {}
    },
    {
      "cell_type": "markdown",
      "source": [
        "In der naiven Version ist nicht jede mathematische Funktion sinnvoll für die \n",
        "Bildverarbeitung. Man muss insbesondere beachten, dass die Grauwerte in unseren \n",
        "PNG-Bildern nur ganzzahlig und nur in dem Bereich von 0 bis 255 erlaubt sind.\n"
      ],
      "metadata": {}
    },
    {
      "cell_type": "markdown",
      "source": [
        "**Aufgabe:** Wie könnte man die beiden bisherigen Filter modifizieren, damit Sie die\n",
        "obigen Einschränkungen berücksichtigen?"
      ],
      "metadata": {}
    },
    {
      "cell_type": "markdown",
      "source": [
        "Quadrieren verschiebt die Grauwerte in Richtung der oberen Grenze 255. Damit wird das\n",
        "Ergebnisbild *heller*. Grauwerte, die oberhalb von 255 ausgerechnet werden, werden auf 255\n",
        "zurückgeworfen (beim Speichern als PNG-Bild). Und Grauwerte, die unterhalb von 0 ausge-\n",
        "rechnet werden, werden auf 0 gesetzt: ‚Clamping‘.\n"
      ],
      "metadata": {}
    },
    {
      "cell_type": "markdown",
      "source": [
        "**Aufgabe:** Wenn Quadrieren ein Bild heller macht, welche Rechenoperation macht\n",
        "es dann *dunkler*?"
      ],
      "metadata": {}
    },
    {
      "cell_type": "markdown",
      "source": [
        "Bisher haben wir quadriert. Allgemeiner kann man Potenzieren, also\n",
        "$$\n",
        "  f(x) = x^\\gamma\\quad\\text{mit $x\\in[0,1]$ und $\\gamma\\in\\mathbb{R}$}.\n",
        "$$\n",
        "\n",
        "**Aufgabe:** Zeichnet den Graphen von $f$ für verschiedene Werte von $\\gamma$, etwa \n",
        "$\\gamma = \\frac14, \\frac12, 1, 2, 4, 0$. Wie lautet die Wertebereich $W$ von $f$ für den \n",
        "Definitionsbereich $D=[0,1]$."
      ],
      "metadata": {}
    },
    {
      "cell_type": "markdown",
      "source": [
        "**Aufgabe:** Schreibt einen Bildfilter `GammaFilter()`, der das obige Potenzieren auf\n",
        "Bildern implementiert. Dabei muss darauf geachtet werden, dass die berechneten Grauwerte\n",
        "alle im Bereich $[0,255]$ bleiben!\n",
        "\n",
        "Wendet den Filter über\n",
        "```\n",
        "gamma = 0.5\n",
        "Img = GammaFilter(img, gamma)\n",
        "```\n",
        "auf das Bild in `woman_in_water.png` mit $\\gamma = 4, 3, 2, 1, \\frac12, \\frac13, \\frac14$ an.\n",
        "\n",
        "Beschreibt Eure Ergebnisse und vergleicht sie mit den Darstellungen unter der Internet-\n",
        "Adresse http://en.wikipedia.org/wiki/Gamma_correction."
      ],
      "metadata": {}
    },
    {
      "cell_type": "markdown",
      "source": [
        "**Aufgabe:** Schreibt eine Funktion `InvertFilter()`, die ein Bild invertiert. D.h.,\n",
        "aus Schwarz wird Weiß, aus Hellgrau wird Dunkelgrau. Und umgekehrt.\n",
        "\n",
        "Zeichnet den Graphen der zugehörigen Funktion.\n",
        "\n",
        "Wendet den Filter an auf die beiden Bilder `woman_in_water.png` und `mammogram.png`.\n",
        "\n",
        "<center>\n",
        "<img src=\"woman_in_water.png\" style=\"float:left; height:300px; margin-right:10px\"/>\n",
        "<img src=\"mammogram.png\" style=\"float:left; height:300px; margin-right:10px\"/>\n",
        "</center>\n",
        "<p style=\"clear: both;\">\n",
        "<center>\"Woman in Water\" und \"Mammogram\"</center>"
      ],
      "metadata": {}
    },
    {
      "cell_type": "markdown",
      "source": [
        "Das Invertieren ist ein Beispiel für eine ‚linearen Punktoperator‘:\n",
        "$$\n",
        "  f(g) = \\alpha\\cdot g + \\beta\\quad\\text{mit $g\\in[0,255]$}.\n",
        "$$\n",
        "Darin wählt man die beiden Größen $\\alpha, \\beta\\in\\mathbb{R}$ so, wie man sie gerade braucht. Bspw. für das Invertieren muss gelten\n",
        "$$\n",
        "  f(0) = 255\\cdot 0 + \\beta\\quad\\text{und}\\quad\n",
        "  f(255) = 0 = \\alpha\\cdot 255 + \\beta.\n",
        "$$\n",
        "Das sind zwei Gleichungen in zwei Unbekannten."
      ],
      "metadata": {}
    },
    {
      "cell_type": "markdown",
      "source": [
        "**Aufgabe:** Berechnet die Lösung dieser beiden Gleichungen und vergleicht mit Eurer\n",
        "Implementierung des `InvertFilter()`."
      ],
      "metadata": {}
    },
    {
      "cell_type": "markdown",
      "source": [
        "Angenommen, man hat ein Bild mit Grauwerten im Bereich von $[20,80]$. Dann handelt es sich\n",
        "um ein *dunkles* Bild. Will man es aufhellen, so kann man diesen Bereich transformieren, etwa\n",
        "nach $[50, 200]$."
      ],
      "metadata": {}
    },
    {
      "cell_type": "markdown",
      "source": [
        "**Aufgabe:** Wenn man dazu einen linearen Punktoperator $f(g) = \\alpha\\cdot g + \\beta$ nimmt, \n",
        "wie müssen die beiden Parameter $\\alpha$ und $\\beta$ gewählt werden?\n",
        "\n",
        "Schreibt dafür einen Filter `ScaleFilter()` und wendet ihn auf das Bild `stripes2.png` an.\n",
        "Vergleicht mit dem Bild `stripes1.png`."
      ],
      "metadata": {}
    },
    {
      "cell_type": "code",
      "source": [],
      "outputs": [],
      "execution_count": null,
      "metadata": {}
    },
    {
      "cell_type": "markdown",
      "source": [
        "**Aufgabe:** Wie sieht der Punktoperator aus, wenn man allgemein den Grauwertbereich \n",
        "$[g_{\\min}, g_{\\max}]$ auf den Bereich $[g'_{\\min}, g'_{\\max}]$ transformieren will? (‚Lineare Histogrammspreizung‘)"
      ],
      "metadata": {}
    },
    {
      "cell_type": "markdown",
      "source": [
        "Zwei Bilder kann man direkt miteinander vergleichen, wenn man sie voneinander ‚abzieht‘:\n",
        "$$\n",
        "  f_{\\text{Difference}}(\\text{Bild1},\\text{Bild2}) = \\text{Bild1} − \\text{Bild2}.\n",
        "$$"
      ],
      "metadata": {}
    },
    {
      "cell_type": "markdown",
      "source": [
        "**Aufgabe:** Schreibt einen Filter `DifferenceFilter()`, der zwei Bilder übernimmt\n",
        "und deren pixelweise Differenz zurückgibt.\n",
        "\n",
        "Probiert ihn aus an dem Beispiel `stripes1.png` und dem skalierten Bild `stripes2.png`."
      ],
      "metadata": {}
    },
    {
      "cell_type": "code",
      "source": [],
      "outputs": [],
      "execution_count": null,
      "metadata": {}
    },
    {
      "cell_type": "markdown",
      "source": [
        "**Aufgabe:** Wie sollte man die Differenz modifizieren, damit sie kommutativ wird?\n",
        "Also\n",
        "$$\n",
        "  f_{\\text{Difference}}(\\text{Bild1}, \\text{Bild2}) = \n",
        "  f_{\\text{Difference}}(\\text{Bild2}, \\text{Bild2}).\n",
        "$$\n",
        "Modifiziert den Filter und spielt ihn durch für obiges Beispiel und die Bilderpaare \n",
        "`street1.png`, `street2.png` und `brust1.png`, `brust2.png`. Was kann man an der Differenz\n",
        "erkennen?"
      ],
      "metadata": {}
    },
    {
      "cell_type": "markdown",
      "source": [
        "Die Helligkeit eines Bildes liest man an seinem mittleren Grauwert ab. Ist dieser hoch, so gibt\n",
        "es viele helle Pixel, das Bild erscheint hell. Ist er niedrig, so gibt es viele dunkle Pixel, das Bild erscheint dunkel."
      ],
      "metadata": {}
    },
    {
      "cell_type": "markdown",
      "source": [
        "**Aufgabe:** Wie sieht die Formel für die Berechnung des mittleren Grauwertes eines\n",
        "(2D)-Bildes aus?\n",
        "\n",
        "Wie sieht die Formel für die Berechnung der Streuung der Grauwerte eines (2D)-Bildes aus?"
      ],
      "metadata": {}
    },
    {
      "cell_type": "markdown",
      "source": [
        "Mit der Klasse `MyImage` kann man die Statistik eines Bildes `img` bestimmen über\n",
        "```python\n",
        "mu, sigma = img.stats()\n",
        "```\n",
        "Darin ist `mu` der Mittelwert und `sigma` die Standardabweichung."
      ],
      "metadata": {}
    },
    {
      "cell_type": "markdown",
      "source": [
        "**Aufgabe:** Für die Gamma-gefilterten Bilder berechnet die mittleren Grauwerte und\n",
        "verifiziert, dass dieser ein Maß für die Helligkeit ist. Was könnte die Streuung eines Bildes\n",
        "bedeuten?"
      ],
      "metadata": {}
    },
    {
      "cell_type": "code",
      "source": [],
      "outputs": [],
      "execution_count": null,
      "metadata": {}
    },
    {
      "cell_type": "markdown",
      "source": [
        "Wir wollen den Kontrast und die Helligkeit eines Bildes gezielt verändern. Und wir wollen\n",
        "dies über einen linearen Punktoperator $f(g) = \\alpha\\cdot g + \\beta$ bewerkstelligen."
      ],
      "metadata": {}
    },
    {
      "cell_type": "markdown",
      "source": [
        "**Aufgabe:** Angenommen, ein Bild hat den Mittelwert $\\mu$ und die Standardabweichung $\\sigma$. Wir hätten gerne den Mittelwert $\\mu'$ und die Standardabweichung $\\sigma'$.\n",
        "Wie müssen $\\alpha$ und $\\beta$ in der Transformation $g' = f(g) = \\alpha\\cdot g + \\beta$ gewählt werden, um das zu erreichen?\n",
        "\n",
        "Tipp: Beginnt damit, die Formeln für Mittelwert und Standardabweichung für das neue Bild\n",
        "aufzustellen und darin den Mittelwert und die Streuung des Ausgangsbildes wieder zu finden.\n",
        "Man bekommt wieder zwei Gleichungen in zwei Unbekannten."
      ],
      "metadata": {}
    },
    {
      "cell_type": "markdown",
      "source": [
        "**Aufgabe:** Schreibt einen Filter `StatsScaleFilter()`, der ein gegebenes Bild und\n",
        "gewünschten Mittelwert und Standardabweichung übernimmt und ein neues Bild mit dieser\n",
        "Statistik zurückgibt.\n",
        "\n",
        "Verwendet den Filter, um den Blaukanal `lena128c-blue.png` und den Grünkanal `lena128c-green.png` des bunten Lena-Bildes `lena128c.png` auf die Statistik des Rotkanals `lena128c-red.png` zu bringen.\n",
        "\n",
        "<center>\n",
        "  <img src=\"lena128c-red.png\" style=\"float:left; height:300px; margin-right:10px\"/>\n",
        "  <img src=\"lena128c-green.png\" style=\"float:left; height:300px; margin-right:10px\"/>\n",
        "  <img src=\"lena128c-blue.png\" style=\"float:left; height:300px; margin-right:10px\"/>\n",
        "  <img src=\"lena128c.png\" style=\"float:left; height:300px; margin-right:10px\"/>\n",
        "</center>\n",
        "<p style=\"clear: both;\">\n",
        "<center>\n",
        "  Rot-, Grün- und Blaukanal; Bunt \n",
        "</center>"
      ],
      "metadata": {}
    },
    {
      "cell_type": "markdown",
      "source": [
        "Die Statistik eines Bildes kann man dem ‚Histogramm‘ ansehen. Mit `MyImage` lässt sich das absolute Histogramm eine Bildes in `img` bestimmen über\n",
        "```python\n",
        "H = img.absHistogram()\n",
        "```\n",
        "und darstellen über\n",
        "```python\n",
        "from matplotlib.pyplot import *      # fuer die Graphik\n",
        "bar(range(256), H)\n",
        "show()\n",
        "```"
      ],
      "metadata": {}
    },
    {
      "cell_type": "markdown",
      "source": [
        "**Aufgabe:** Bestimmt die Histogramme von `lena128c-blue.png` und dem bearbei-\n",
        "teten Bild."
      ],
      "metadata": {}
    },
    {
      "cell_type": "markdown",
      "source": [
        "<center>\n",
        "  <img src=\"bone1.png\" style=\"float:left; height:300px; margin-right:10px\"/>\n",
        "  <img src=\"bone1right.png\" style=\"float:left; height:300px; margin-right:10px\"/>\n",
        "</center>\n",
        "<p style=\"clear: both;\">\n",
        "<center>\n",
        "  \"Bone1\" und \"Bone1right\"\n",
        "</center>\n",
        "\n",
        "Wir wollen aus einem Unterschenkel-CT-Bild die Knochen ‚segmentieren‘. D.h. wir wollen eine Bild erzeugen, in dem alle Pixel, die zum Knochen gehören, weiß (255) sind. Und alle Pixel, die nicht zu einem Knochen gehören, schwarz (0) sind."
      ],
      "metadata": {}
    },
    {
      "cell_type": "markdown",
      "source": [
        "**Aufgabe:** In dem Bild in der Datei [segmentierung.pdf][seg] ist ein Ausschnitt aus `bone1right.png` mit Pixelwerten dargestellt.\n",
        "\n",
        "Markiert alle Pixel, die zum Knochen gehören.\n",
        "\n",
        "[seg]: ./segmentierung.pdf"
      ],
      "metadata": {}
    },
    {
      "cell_type": "markdown",
      "source": [
        "**Aufgabe:** Wie habt Ihr über das einzelne Pixel entschieden? Formuliert Euer Kriterium so, dass man es einem Computer beibringen kann."
      ],
      "metadata": {}
    },
    {
      "cell_type": "markdown",
      "source": [
        "Da der Knochen sehr hell im Bild dargestellt wird, kann man wie folgt vorgehen: Wir wählen einen hohen Grauwert $G$ und markieren alle Pixel im Bild mit `img[x, y] ≥ 𝐺`. $G$ heißt ‚Schwellenwert‘ oder ‚Threshold‘. Als Funktion in Python könnte man es etwa so formulieren\n",
        "\n",
        "```python\n",
        "def ThresholdFilter(img, G):\n",
        "    w, h = img.getSize()\n",
        "    out = MyImage(w, h, 0)\n",
        "    for x in range(w):\n",
        "       for y in range(h):\n",
        "          if img[x, y] >= G:\n",
        "              out[x, y] = 255\n",
        "    return out\n",
        "```"
      ],
      "metadata": {}
    },
    {
      "cell_type": "markdown",
      "source": [
        "**Aufgabe:** Probiert den obigen Filter `ThresholdFilter()` aus auf dem Bild `bone1right.png`. Findet dazu einen ‚guten‘ Schwellenwert $G$.\n",
        "\n",
        "Wenn Ihr einen guten Wert gefunden habt, spielt den Filter auch auf den Bildern `bone1.png` und `bone2.png` durch."
      ],
      "metadata": {}
    },
    {
      "cell_type": "code",
      "source": [],
      "outputs": [],
      "execution_count": null,
      "metadata": {}
    },
    {
      "cell_type": "markdown",
      "source": [
        "**Aufgabe:** Wie müsste man vorgehen, wenn man nur das Muskelgewebe segmentieren möchte? Schaut Euch dazu einmal das absolute Histogramm von `bone1right.png` an."
      ],
      "metadata": {}
    },
    {
      "cell_type": "code",
      "source": [],
      "outputs": [],
      "execution_count": null,
      "metadata": {}
    }
  ],
  "metadata": {
    "language_info": {
      "codemirror_mode": {
        "name": "ipython",
        "version": 3
      },
      "file_extension": ".py",
      "mimetype": "text/x-python",
      "name": "python",
      "nbconvert_exporter": "python",
      "pygments_lexer": "ipython3",
      "version": 3
    },
    "orig_nbformat": 2,
    "nteract": {
      "version": "0.25.1"
    }
  },
  "nbformat": 4,
  "nbformat_minor": 2
}